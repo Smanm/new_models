{
 "cells": [
  {
   "cell_type": "code",
   "execution_count": 1,
   "metadata": {},
   "outputs": [],
   "source": [
    "from selenium import webdriver\n",
    "import time\n",
    "import pandas as pd\n",
    "import requests\n",
    "import json\n",
    "from sklearn.model_selection import train_test_split\n",
    "from xgboost import XGBRegressor\n",
    "import seaborn as sns\n"
   ]
  },
  {
   "cell_type": "code",
   "execution_count": 2,
   "metadata": {},
   "outputs": [],
   "source": [
    "import warnings;\n",
    "warnings.simplefilter('ignore')"
   ]
  },
  {
   "cell_type": "code",
   "execution_count": 3,
   "metadata": {},
   "outputs": [],
   "source": [
    "path=r'C:\\Users\\hp\\Downloads\\chromedriver_win32 (1)\\chromedriver.exe'\n",
    "browser=webdriver.Chrome(executable_path=path)"
   ]
  },
  {
   "cell_type": "code",
   "execution_count": 4,
   "metadata": {},
   "outputs": [],
   "source": [
    "browser.get('https://data.covid19india.org/')"
   ]
  },
  {
   "cell_type": "code",
   "execution_count": 5,
   "metadata": {},
   "outputs": [],
   "source": [
    "data=browser.find_element_by_xpath('/html/body/div/table[1]/tbody/tr[1]/td[2]/a')"
   ]
  },
  {
   "cell_type": "code",
   "execution_count": 6,
   "metadata": {},
   "outputs": [],
   "source": [
    "data.click()"
   ]
  },
  {
   "cell_type": "code",
   "execution_count": 7,
   "metadata": {},
   "outputs": [],
   "source": [
    "time.sleep(10)"
   ]
  },
  {
   "cell_type": "code",
   "execution_count": 8,
   "metadata": {},
   "outputs": [],
   "source": [
    "r=requests.get('https://data.covid19india.org/v4/min/timeseries.min.json')\n",
    "\n"
   ]
  },
  {
   "cell_type": "code",
   "execution_count": 9,
   "metadata": {},
   "outputs": [
    {
     "data": {
      "text/html": [
       "<div>\n",
       "<style scoped>\n",
       "    .dataframe tbody tr th:only-of-type {\n",
       "        vertical-align: middle;\n",
       "    }\n",
       "\n",
       "    .dataframe tbody tr th {\n",
       "        vertical-align: top;\n",
       "    }\n",
       "\n",
       "    .dataframe thead th {\n",
       "        text-align: right;\n",
       "    }\n",
       "</style>\n",
       "<table border=\"1\" class=\"dataframe\">\n",
       "  <thead>\n",
       "    <tr style=\"text-align: right;\">\n",
       "      <th></th>\n",
       "      <th>dates</th>\n",
       "      <th>total_confirmed</th>\n",
       "      <th>total deceased</th>\n",
       "    </tr>\n",
       "  </thead>\n",
       "  <tbody>\n",
       "  </tbody>\n",
       "</table>\n",
       "</div>"
      ],
      "text/plain": [
       "Empty DataFrame\n",
       "Columns: [dates, total_confirmed, total deceased]\n",
       "Index: []"
      ]
     },
     "execution_count": 9,
     "metadata": {},
     "output_type": "execute_result"
    }
   ],
   "source": [
    "column_name=['dates','total_confirmed','total deceased']\n",
    "Df=pd.DataFrame(columns=column_name)\n",
    "Df\n",
    "column_name=['dates','total_confirmed','total deceased']\n",
    "D_frame=pd.DataFrame(columns=column_name)\n",
    "D_frame"
   ]
  },
  {
   "cell_type": "code",
   "execution_count": 10,
   "metadata": {},
   "outputs": [
    {
     "name": "stdout",
     "output_type": "stream",
     "text": [
      "['AN', 'AP', 'AR', 'AS', 'BR', 'CH', 'CT', 'DN', 'DD', 'DL', 'GA', 'GJ', 'HR', 'HP', 'JK', 'JH', 'KA', 'KL', 'LD', 'MP', 'MH', 'MN', 'ML', 'MZ', 'NL', 'OR', 'PY', 'PB', 'RJ', 'SK', 'TN', 'TG', 'TR', 'UP', 'UT', 'WB']\n"
     ]
    }
   ],
   "source": [
    "state=['AN','AP','AR','AS','BR','CH','CT','DN','DD','DL','GA','GJ','HR','HP','JK','JH','KA','KL','LD','MP','MH','MN','ML','MZ','NL','OR','PY','PB','RJ','SK','TN','TG','TR','UP','UT','WB']\n",
    "print(state)"
   ]
  },
  {
   "cell_type": "code",
   "execution_count": 11,
   "metadata": {},
   "outputs": [
    {
     "name": "stdout",
     "output_type": "stream",
     "text": [
      "ENTER THE STATE ABBREVIATION FROM ABOVE AN/GA/MH KL\n"
     ]
    }
   ],
   "source": [
    "state_ab=input(\"ENTER THE STATE ABBREVIATION FROM ABOVE AN/GA/MH \")"
   ]
  },
  {
   "cell_type": "code",
   "execution_count": 12,
   "metadata": {},
   "outputs": [],
   "source": [
    "Dat0={}\n",
    "data0=json.loads(r.text)[state_ab]['dates']['2020-1{}-3{}'.format(2,1)]['total']['confirmed']\n",
    "Data0=json.loads(r.text)[state_ab]['dates']['2020-1{}-3{}'.format(2,1)]['total']['deceased']\n",
    "#data1=json.loads(r.text)['KL']['dates']\n",
    "#print((data))\n",
    "Dat0[Df.columns[0]]=str(['20201{}3{}'.format(2,1)])\n",
    "Dat0[Df.columns[1]]=data0\n",
    "Dat0[Df.columns[2]]=Data0\n",
    "Df=Df.append(Dat0,ignore_index=True)\n",
    "for k in range(9):\n",
    "    for i in range(9):\n",
    "        try:\n",
    "            Dat={}\n",
    "           \n",
    "            \n",
    "            data1=json.loads(r.text)[state_ab]['dates']['2021-0{}-0{}'.format(k+1,i+1)]['total']['confirmed']\n",
    "            Data1=json.loads(r.text)[state_ab]['dates']['2021-0{}-0{}'.format(k+1,i+1)]['total']['deceased']\n",
    "        #data1=json.loads(r.text)['KL']['dates']\n",
    "        #print((data))\n",
    "            Dat[Df.columns[0]]=str('2021/{}/{}'.format(k+1,i+1))\n",
    "           \n",
    "            Dat[Df.columns[1]]=data1\n",
    "            Dat[Df.columns[2]]=Data1\n",
    "            Df=Df.append(Dat,ignore_index=True)\n",
    "            D_frame=D_frame.append(Dat,ignore_index=True)\n",
    "        \n",
    "        except:\n",
    "            continue\n",
    "    for j in range(10):\n",
    "        try:\n",
    "            Dat2={}\n",
    "            data2=json.loads(r.text)[state_ab]['dates']['2021-0{}-1{}'.format(k+1,j)]['total']['confirmed']\n",
    "            Data2=json.loads(r.text)[state_ab]['dates']['2021-0{}-1{}'.format(k+1,j)]['total']['deceased']\n",
    "        #data1=json.loads(r.text)['KL']['dates']\n",
    "        #print((data))\n",
    "            Dat2[Df.columns[0]]=str('2021/{}/1{}'.format(k+1,j))\n",
    "           \n",
    "            Dat2[Df.columns[1]]=data2\n",
    "            Dat2[Df.columns[2]]=Data2\n",
    "            \n",
    "            Df=Df.append(Dat2,ignore_index=True)\n",
    "            D_frame=D_frame.append(Dat2,ignore_index=True)\n",
    "        \n",
    "        except:\n",
    "            continue  \n",
    "    for l in range(10):\n",
    "        try:\n",
    "            Dat3={}\n",
    "            data3=json.loads(r.text)[state_ab]['dates']['2021-0{}-2{}'.format(k+1,l)]['total']['confirmed']\n",
    "            Data3=json.loads(r.text)[state_ab]['dates']['2021-0{}-2{}'.format(k+1,l)]['total']['deceased']\n",
    "        #data1=json.loads(r.text)['KL']['dates']\n",
    "        #print((data))\n",
    "            Dat3[Df.columns[0]]=str('2021/{}/2{}'.format(k+1,l))\n",
    "           \n",
    "            Dat3[Df.columns[1]]=data3\n",
    "            Dat3[Df.columns[2]]=Data3\n",
    "            Df=Df.append(Dat3,ignore_index=True)\n",
    "            D_frame=D_frame.append(Dat3,ignore_index=True)\n",
    "        \n",
    "        except:\n",
    "            continue \n",
    "    \n",
    "    for m in range(2):\n",
    "        try:\n",
    "            Dat4={}\n",
    "            data4=json.loads(r.text)[state_ab]['dates']['2021-0{}-3{}'.format(k+1,m)]['total']['confirmed']\n",
    "            Data4=json.loads(r.text)[state_ab]['dates']['2021-0{}-3{}'.format(k+1,m)]['total']['deceased']\n",
    "        #data1=json.loads(r.text)['KL']['dates']\n",
    "        #print((data))\n",
    "            Dat4[Df.columns[0]]=str('2021/{}/3{}'.format(k+1,m))\n",
    "           \n",
    "            Dat4[Df.columns[1]]=data4\n",
    "            Dat4[Df.columns[2]]=Data4\n",
    "            Df=Df.append(Dat4,ignore_index=True)\n",
    "            D_frame=D_frame.append(Dat4,ignore_index=True)\n",
    "        \n",
    "        except:\n",
    "            continue           "
   ]
  },
  {
   "cell_type": "code",
   "execution_count": 13,
   "metadata": {},
   "outputs": [
    {
     "data": {
      "text/html": [
       "<div>\n",
       "<style scoped>\n",
       "    .dataframe tbody tr th:only-of-type {\n",
       "        vertical-align: middle;\n",
       "    }\n",
       "\n",
       "    .dataframe tbody tr th {\n",
       "        vertical-align: top;\n",
       "    }\n",
       "\n",
       "    .dataframe thead th {\n",
       "        text-align: right;\n",
       "    }\n",
       "</style>\n",
       "<table border=\"1\" class=\"dataframe\">\n",
       "  <thead>\n",
       "    <tr style=\"text-align: right;\">\n",
       "      <th></th>\n",
       "      <th>dates</th>\n",
       "      <th>total_confirmed</th>\n",
       "      <th>total deceased</th>\n",
       "    </tr>\n",
       "  </thead>\n",
       "  <tbody>\n",
       "    <tr>\n",
       "      <th>0</th>\n",
       "      <td>['20201231']</td>\n",
       "      <td>760934</td>\n",
       "      <td>3073</td>\n",
       "    </tr>\n",
       "    <tr>\n",
       "      <th>1</th>\n",
       "      <td>2021/1/1</td>\n",
       "      <td>765925</td>\n",
       "      <td>3096</td>\n",
       "    </tr>\n",
       "    <tr>\n",
       "      <th>2</th>\n",
       "      <td>2021/1/2</td>\n",
       "      <td>771253</td>\n",
       "      <td>3117</td>\n",
       "    </tr>\n",
       "    <tr>\n",
       "      <th>3</th>\n",
       "      <td>2021/1/3</td>\n",
       "      <td>775853</td>\n",
       "      <td>3142</td>\n",
       "    </tr>\n",
       "    <tr>\n",
       "      <th>4</th>\n",
       "      <td>2021/1/4</td>\n",
       "      <td>778874</td>\n",
       "      <td>3161</td>\n",
       "    </tr>\n",
       "    <tr>\n",
       "      <th>...</th>\n",
       "      <td>...</td>\n",
       "      <td>...</td>\n",
       "      <td>...</td>\n",
       "    </tr>\n",
       "    <tr>\n",
       "      <th>269</th>\n",
       "      <td>2021/9/26</td>\n",
       "      <td>4629888</td>\n",
       "      <td>24603</td>\n",
       "    </tr>\n",
       "    <tr>\n",
       "      <th>270</th>\n",
       "      <td>2021/9/27</td>\n",
       "      <td>4641587</td>\n",
       "      <td>24661</td>\n",
       "    </tr>\n",
       "    <tr>\n",
       "      <th>271</th>\n",
       "      <td>2021/9/28</td>\n",
       "      <td>4652783</td>\n",
       "      <td>24810</td>\n",
       "    </tr>\n",
       "    <tr>\n",
       "      <th>272</th>\n",
       "      <td>2021/9/29</td>\n",
       "      <td>4664944</td>\n",
       "      <td>24965</td>\n",
       "    </tr>\n",
       "    <tr>\n",
       "      <th>273</th>\n",
       "      <td>2021/9/30</td>\n",
       "      <td>4680858</td>\n",
       "      <td>25087</td>\n",
       "    </tr>\n",
       "  </tbody>\n",
       "</table>\n",
       "<p>274 rows × 3 columns</p>\n",
       "</div>"
      ],
      "text/plain": [
       "            dates total_confirmed total deceased\n",
       "0    ['20201231']          760934           3073\n",
       "1        2021/1/1          765925           3096\n",
       "2        2021/1/2          771253           3117\n",
       "3        2021/1/3          775853           3142\n",
       "4        2021/1/4          778874           3161\n",
       "..            ...             ...            ...\n",
       "269     2021/9/26         4629888          24603\n",
       "270     2021/9/27         4641587          24661\n",
       "271     2021/9/28         4652783          24810\n",
       "272     2021/9/29         4664944          24965\n",
       "273     2021/9/30         4680858          25087\n",
       "\n",
       "[274 rows x 3 columns]"
      ]
     },
     "metadata": {},
     "output_type": "display_data"
    }
   ],
   "source": [
    "display(Df)"
   ]
  },
  {
   "cell_type": "code",
   "execution_count": 14,
   "metadata": {},
   "outputs": [
    {
     "data": {
      "text/plain": [
       "dates              object\n",
       "total_confirmed    object\n",
       "total deceased     object\n",
       "dtype: object"
      ]
     },
     "execution_count": 14,
     "metadata": {},
     "output_type": "execute_result"
    }
   ],
   "source": [
    "#n_rows=Df.shape[0]\n",
    "Df.dtypes"
   ]
  },
  {
   "cell_type": "code",
   "execution_count": 15,
   "metadata": {},
   "outputs": [],
   "source": [
    "#pd.set_option('display.max_rows',n_rows)\n",
    "D_frame=D_frame.rename(columns={\"total_confirmed\":\"active_cases\"})\n",
    "D_frame=D_frame.rename(columns={\"total deceased\":\"daily_deaths\"})"
   ]
  },
  {
   "cell_type": "code",
   "execution_count": 16,
   "metadata": {},
   "outputs": [
    {
     "data": {
      "text/html": [
       "<div>\n",
       "<style scoped>\n",
       "    .dataframe tbody tr th:only-of-type {\n",
       "        vertical-align: middle;\n",
       "    }\n",
       "\n",
       "    .dataframe tbody tr th {\n",
       "        vertical-align: top;\n",
       "    }\n",
       "\n",
       "    .dataframe thead th {\n",
       "        text-align: right;\n",
       "    }\n",
       "</style>\n",
       "<table border=\"1\" class=\"dataframe\">\n",
       "  <thead>\n",
       "    <tr style=\"text-align: right;\">\n",
       "      <th></th>\n",
       "      <th>dates</th>\n",
       "      <th>active_cases</th>\n",
       "      <th>daily deaths</th>\n",
       "    </tr>\n",
       "  </thead>\n",
       "  <tbody>\n",
       "    <tr>\n",
       "      <th>0</th>\n",
       "      <td>2021/1/1</td>\n",
       "      <td>765925</td>\n",
       "      <td>3096</td>\n",
       "    </tr>\n",
       "    <tr>\n",
       "      <th>1</th>\n",
       "      <td>2021/1/2</td>\n",
       "      <td>771253</td>\n",
       "      <td>3117</td>\n",
       "    </tr>\n",
       "    <tr>\n",
       "      <th>2</th>\n",
       "      <td>2021/1/3</td>\n",
       "      <td>775853</td>\n",
       "      <td>3142</td>\n",
       "    </tr>\n",
       "    <tr>\n",
       "      <th>3</th>\n",
       "      <td>2021/1/4</td>\n",
       "      <td>778874</td>\n",
       "      <td>3161</td>\n",
       "    </tr>\n",
       "    <tr>\n",
       "      <th>4</th>\n",
       "      <td>2021/1/5</td>\n",
       "      <td>784489</td>\n",
       "      <td>3185</td>\n",
       "    </tr>\n",
       "    <tr>\n",
       "      <th>...</th>\n",
       "      <td>...</td>\n",
       "      <td>...</td>\n",
       "      <td>...</td>\n",
       "    </tr>\n",
       "    <tr>\n",
       "      <th>268</th>\n",
       "      <td>2021/9/26</td>\n",
       "      <td>4629888</td>\n",
       "      <td>24603</td>\n",
       "    </tr>\n",
       "    <tr>\n",
       "      <th>269</th>\n",
       "      <td>2021/9/27</td>\n",
       "      <td>4641587</td>\n",
       "      <td>24661</td>\n",
       "    </tr>\n",
       "    <tr>\n",
       "      <th>270</th>\n",
       "      <td>2021/9/28</td>\n",
       "      <td>4652783</td>\n",
       "      <td>24810</td>\n",
       "    </tr>\n",
       "    <tr>\n",
       "      <th>271</th>\n",
       "      <td>2021/9/29</td>\n",
       "      <td>4664944</td>\n",
       "      <td>24965</td>\n",
       "    </tr>\n",
       "    <tr>\n",
       "      <th>272</th>\n",
       "      <td>2021/9/30</td>\n",
       "      <td>4680858</td>\n",
       "      <td>25087</td>\n",
       "    </tr>\n",
       "  </tbody>\n",
       "</table>\n",
       "<p>273 rows × 3 columns</p>\n",
       "</div>"
      ],
      "text/plain": [
       "         dates active_cases daily deaths\n",
       "0     2021/1/1       765925         3096\n",
       "1     2021/1/2       771253         3117\n",
       "2     2021/1/3       775853         3142\n",
       "3     2021/1/4       778874         3161\n",
       "4     2021/1/5       784489         3185\n",
       "..         ...          ...          ...\n",
       "268  2021/9/26      4629888        24603\n",
       "269  2021/9/27      4641587        24661\n",
       "270  2021/9/28      4652783        24810\n",
       "271  2021/9/29      4664944        24965\n",
       "272  2021/9/30      4680858        25087\n",
       "\n",
       "[273 rows x 3 columns]"
      ]
     },
     "execution_count": 16,
     "metadata": {},
     "output_type": "execute_result"
    }
   ],
   "source": [
    "D_frame"
   ]
  },
  {
   "cell_type": "code",
   "execution_count": 17,
   "metadata": {},
   "outputs": [],
   "source": [
    "\n",
    "#rows=D_frame.shape[0]\n",
    "#pd.set_option('display.max_rows',rows)"
   ]
  },
  {
   "cell_type": "code",
   "execution_count": 18,
   "metadata": {},
   "outputs": [],
   "source": [
    "\n",
    "#D_frame"
   ]
  },
  {
   "cell_type": "code",
   "execution_count": 19,
   "metadata": {},
   "outputs": [],
   "source": [
    "D_frame.loc[:,\"active_cases\"]=D_frame.loc[:,\"active_cases\"]- Df.loc[:,\"total_confirmed\"]\n",
    "D_frame.loc[:,\"daily_deaths\"]=D_frame.loc[:,\"daily_deaths\"]- Df.loc[:,\"total deceased\"]"
   ]
  },
  {
   "cell_type": "code",
   "execution_count": 20,
   "metadata": {},
   "outputs": [
    {
     "data": {
      "text/html": [
       "<div>\n",
       "<style scoped>\n",
       "    .dataframe tbody tr th:only-of-type {\n",
       "        vertical-align: middle;\n",
       "    }\n",
       "\n",
       "    .dataframe tbody tr th {\n",
       "        vertical-align: top;\n",
       "    }\n",
       "\n",
       "    .dataframe thead th {\n",
       "        text-align: right;\n",
       "    }\n",
       "</style>\n",
       "<table border=\"1\" class=\"dataframe\">\n",
       "  <thead>\n",
       "    <tr style=\"text-align: right;\">\n",
       "      <th></th>\n",
       "      <th>dates</th>\n",
       "      <th>active_cases</th>\n",
       "      <th>daily deaths</th>\n",
       "    </tr>\n",
       "  </thead>\n",
       "  <tbody>\n",
       "    <tr>\n",
       "      <th>0</th>\n",
       "      <td>2021/1/1</td>\n",
       "      <td>4991</td>\n",
       "      <td>23</td>\n",
       "    </tr>\n",
       "    <tr>\n",
       "      <th>1</th>\n",
       "      <td>2021/1/2</td>\n",
       "      <td>5328</td>\n",
       "      <td>21</td>\n",
       "    </tr>\n",
       "    <tr>\n",
       "      <th>2</th>\n",
       "      <td>2021/1/3</td>\n",
       "      <td>4600</td>\n",
       "      <td>25</td>\n",
       "    </tr>\n",
       "    <tr>\n",
       "      <th>3</th>\n",
       "      <td>2021/1/4</td>\n",
       "      <td>3021</td>\n",
       "      <td>19</td>\n",
       "    </tr>\n",
       "    <tr>\n",
       "      <th>4</th>\n",
       "      <td>2021/1/5</td>\n",
       "      <td>5615</td>\n",
       "      <td>24</td>\n",
       "    </tr>\n",
       "    <tr>\n",
       "      <th>...</th>\n",
       "      <td>...</td>\n",
       "      <td>...</td>\n",
       "      <td>...</td>\n",
       "    </tr>\n",
       "    <tr>\n",
       "      <th>268</th>\n",
       "      <td>2021/9/26</td>\n",
       "      <td>15951</td>\n",
       "      <td>165</td>\n",
       "    </tr>\n",
       "    <tr>\n",
       "      <th>269</th>\n",
       "      <td>2021/9/27</td>\n",
       "      <td>11699</td>\n",
       "      <td>58</td>\n",
       "    </tr>\n",
       "    <tr>\n",
       "      <th>270</th>\n",
       "      <td>2021/9/28</td>\n",
       "      <td>11196</td>\n",
       "      <td>149</td>\n",
       "    </tr>\n",
       "    <tr>\n",
       "      <th>271</th>\n",
       "      <td>2021/9/29</td>\n",
       "      <td>12161</td>\n",
       "      <td>155</td>\n",
       "    </tr>\n",
       "    <tr>\n",
       "      <th>272</th>\n",
       "      <td>2021/9/30</td>\n",
       "      <td>15914</td>\n",
       "      <td>122</td>\n",
       "    </tr>\n",
       "  </tbody>\n",
       "</table>\n",
       "<p>273 rows × 3 columns</p>\n",
       "</div>"
      ],
      "text/plain": [
       "         dates active_cases daily deaths\n",
       "0     2021/1/1         4991           23\n",
       "1     2021/1/2         5328           21\n",
       "2     2021/1/3         4600           25\n",
       "3     2021/1/4         3021           19\n",
       "4     2021/1/5         5615           24\n",
       "..         ...          ...          ...\n",
       "268  2021/9/26        15951          165\n",
       "269  2021/9/27        11699           58\n",
       "270  2021/9/28        11196          149\n",
       "271  2021/9/29        12161          155\n",
       "272  2021/9/30        15914          122\n",
       "\n",
       "[273 rows x 3 columns]"
      ]
     },
     "execution_count": 20,
     "metadata": {},
     "output_type": "execute_result"
    }
   ],
   "source": [
    "D_frame\n"
   ]
  },
  {
   "cell_type": "code",
   "execution_count": 21,
   "metadata": {},
   "outputs": [
    {
     "data": {
      "text/plain": [
       "dates           object\n",
       "active_cases    object\n",
       "daily deaths    object\n",
       "dtype: object"
      ]
     },
     "execution_count": 21,
     "metadata": {},
     "output_type": "execute_result"
    }
   ],
   "source": [
    "D_frame.dtypes"
   ]
  },
  {
   "cell_type": "code",
   "execution_count": null,
   "metadata": {},
   "outputs": [],
   "source": [
    "Df[\"active_cases\"]=D_frame[[\"active_cases\"]].copy()"
   ]
  },
  {
   "cell_type": "code",
   "execution_count": 26,
   "metadata": {},
   "outputs": [
    {
     "data": {
      "text/html": [
       "<div>\n",
       "<style scoped>\n",
       "    .dataframe tbody tr th:only-of-type {\n",
       "        vertical-align: middle;\n",
       "    }\n",
       "\n",
       "    .dataframe tbody tr th {\n",
       "        vertical-align: top;\n",
       "    }\n",
       "\n",
       "    .dataframe thead th {\n",
       "        text-align: right;\n",
       "    }\n",
       "</style>\n",
       "<table border=\"1\" class=\"dataframe\">\n",
       "  <thead>\n",
       "    <tr style=\"text-align: right;\">\n",
       "      <th></th>\n",
       "      <th>dates</th>\n",
       "      <th>total_confirmed</th>\n",
       "      <th>total deceased</th>\n",
       "      <th>active_cases</th>\n",
       "    </tr>\n",
       "  </thead>\n",
       "  <tbody>\n",
       "    <tr>\n",
       "      <th>0</th>\n",
       "      <td>['20201231']</td>\n",
       "      <td>760934</td>\n",
       "      <td>3073</td>\n",
       "      <td>4991</td>\n",
       "    </tr>\n",
       "    <tr>\n",
       "      <th>1</th>\n",
       "      <td>2021/1/1</td>\n",
       "      <td>765925</td>\n",
       "      <td>3096</td>\n",
       "      <td>5328</td>\n",
       "    </tr>\n",
       "    <tr>\n",
       "      <th>2</th>\n",
       "      <td>2021/1/2</td>\n",
       "      <td>771253</td>\n",
       "      <td>3117</td>\n",
       "      <td>4600</td>\n",
       "    </tr>\n",
       "    <tr>\n",
       "      <th>3</th>\n",
       "      <td>2021/1/3</td>\n",
       "      <td>775853</td>\n",
       "      <td>3142</td>\n",
       "      <td>3021</td>\n",
       "    </tr>\n",
       "    <tr>\n",
       "      <th>4</th>\n",
       "      <td>2021/1/4</td>\n",
       "      <td>778874</td>\n",
       "      <td>3161</td>\n",
       "      <td>5615</td>\n",
       "    </tr>\n",
       "    <tr>\n",
       "      <th>...</th>\n",
       "      <td>...</td>\n",
       "      <td>...</td>\n",
       "      <td>...</td>\n",
       "      <td>...</td>\n",
       "    </tr>\n",
       "    <tr>\n",
       "      <th>269</th>\n",
       "      <td>2021/9/26</td>\n",
       "      <td>4629888</td>\n",
       "      <td>24603</td>\n",
       "      <td>11699</td>\n",
       "    </tr>\n",
       "    <tr>\n",
       "      <th>270</th>\n",
       "      <td>2021/9/27</td>\n",
       "      <td>4641587</td>\n",
       "      <td>24661</td>\n",
       "      <td>11196</td>\n",
       "    </tr>\n",
       "    <tr>\n",
       "      <th>271</th>\n",
       "      <td>2021/9/28</td>\n",
       "      <td>4652783</td>\n",
       "      <td>24810</td>\n",
       "      <td>12161</td>\n",
       "    </tr>\n",
       "    <tr>\n",
       "      <th>272</th>\n",
       "      <td>2021/9/29</td>\n",
       "      <td>4664944</td>\n",
       "      <td>24965</td>\n",
       "      <td>15914</td>\n",
       "    </tr>\n",
       "    <tr>\n",
       "      <th>273</th>\n",
       "      <td>2021/9/30</td>\n",
       "      <td>4680858</td>\n",
       "      <td>25087</td>\n",
       "      <td>NaN</td>\n",
       "    </tr>\n",
       "  </tbody>\n",
       "</table>\n",
       "<p>274 rows × 4 columns</p>\n",
       "</div>"
      ],
      "text/plain": [
       "            dates total_confirmed total deceased active_cases\n",
       "0    ['20201231']          760934           3073         4991\n",
       "1        2021/1/1          765925           3096         5328\n",
       "2        2021/1/2          771253           3117         4600\n",
       "3        2021/1/3          775853           3142         3021\n",
       "4        2021/1/4          778874           3161         5615\n",
       "..            ...             ...            ...          ...\n",
       "269     2021/9/26         4629888          24603        11699\n",
       "270     2021/9/27         4641587          24661        11196\n",
       "271     2021/9/28         4652783          24810        12161\n",
       "272     2021/9/29         4664944          24965        15914\n",
       "273     2021/9/30         4680858          25087          NaN\n",
       "\n",
       "[274 rows x 4 columns]"
      ]
     },
     "execution_count": 26,
     "metadata": {},
     "output_type": "execute_result"
    }
   ],
   "source": [
    "Df"
   ]
  },
  {
   "cell_type": "code",
   "execution_count": 39,
   "metadata": {},
   "outputs": [],
   "source": [
    "Df.drop(labels=[\"dates\",\"total_confirmed\",\"total deceased\"],axis=1,inplace=True)"
   ]
  },
  {
   "cell_type": "code",
   "execution_count": 32,
   "metadata": {},
   "outputs": [],
   "source": [
    "Df.dropna(inplace=True)"
   ]
  },
  {
   "cell_type": "code",
   "execution_count": 40,
   "metadata": {},
   "outputs": [
    {
     "data": {
      "text/html": [
       "<div>\n",
       "<style scoped>\n",
       "    .dataframe tbody tr th:only-of-type {\n",
       "        vertical-align: middle;\n",
       "    }\n",
       "\n",
       "    .dataframe tbody tr th {\n",
       "        vertical-align: top;\n",
       "    }\n",
       "\n",
       "    .dataframe thead th {\n",
       "        text-align: right;\n",
       "    }\n",
       "</style>\n",
       "<table border=\"1\" class=\"dataframe\">\n",
       "  <thead>\n",
       "    <tr style=\"text-align: right;\">\n",
       "      <th></th>\n",
       "      <th>active_cases</th>\n",
       "    </tr>\n",
       "  </thead>\n",
       "  <tbody>\n",
       "    <tr>\n",
       "      <th>0</th>\n",
       "      <td>4991</td>\n",
       "    </tr>\n",
       "    <tr>\n",
       "      <th>1</th>\n",
       "      <td>5328</td>\n",
       "    </tr>\n",
       "    <tr>\n",
       "      <th>2</th>\n",
       "      <td>4600</td>\n",
       "    </tr>\n",
       "    <tr>\n",
       "      <th>3</th>\n",
       "      <td>3021</td>\n",
       "    </tr>\n",
       "    <tr>\n",
       "      <th>4</th>\n",
       "      <td>5615</td>\n",
       "    </tr>\n",
       "    <tr>\n",
       "      <th>...</th>\n",
       "      <td>...</td>\n",
       "    </tr>\n",
       "    <tr>\n",
       "      <th>268</th>\n",
       "      <td>15951</td>\n",
       "    </tr>\n",
       "    <tr>\n",
       "      <th>269</th>\n",
       "      <td>11699</td>\n",
       "    </tr>\n",
       "    <tr>\n",
       "      <th>270</th>\n",
       "      <td>11196</td>\n",
       "    </tr>\n",
       "    <tr>\n",
       "      <th>271</th>\n",
       "      <td>12161</td>\n",
       "    </tr>\n",
       "    <tr>\n",
       "      <th>272</th>\n",
       "      <td>15914</td>\n",
       "    </tr>\n",
       "  </tbody>\n",
       "</table>\n",
       "<p>273 rows × 1 columns</p>\n",
       "</div>"
      ],
      "text/plain": [
       "    active_cases\n",
       "0           4991\n",
       "1           5328\n",
       "2           4600\n",
       "3           3021\n",
       "4           5615\n",
       "..           ...\n",
       "268        15951\n",
       "269        11699\n",
       "270        11196\n",
       "271        12161\n",
       "272        15914\n",
       "\n",
       "[273 rows x 1 columns]"
      ]
     },
     "execution_count": 40,
     "metadata": {},
     "output_type": "execute_result"
    }
   ],
   "source": [
    "Df"
   ]
  },
  {
   "cell_type": "code",
   "execution_count": 41,
   "metadata": {},
   "outputs": [],
   "source": [
    "Df[\"Target_cases\"]=Df.active_cases.shift(-1)"
   ]
  },
  {
   "cell_type": "code",
   "execution_count": null,
   "metadata": {},
   "outputs": [],
   "source": []
  },
  {
   "cell_type": "code",
   "execution_count": 42,
   "metadata": {},
   "outputs": [
    {
     "data": {
      "text/html": [
       "<div>\n",
       "<style scoped>\n",
       "    .dataframe tbody tr th:only-of-type {\n",
       "        vertical-align: middle;\n",
       "    }\n",
       "\n",
       "    .dataframe tbody tr th {\n",
       "        vertical-align: top;\n",
       "    }\n",
       "\n",
       "    .dataframe thead th {\n",
       "        text-align: right;\n",
       "    }\n",
       "</style>\n",
       "<table border=\"1\" class=\"dataframe\">\n",
       "  <thead>\n",
       "    <tr style=\"text-align: right;\">\n",
       "      <th></th>\n",
       "      <th>active_cases</th>\n",
       "      <th>Target_cases</th>\n",
       "    </tr>\n",
       "  </thead>\n",
       "  <tbody>\n",
       "    <tr>\n",
       "      <th>0</th>\n",
       "      <td>4991</td>\n",
       "      <td>5328</td>\n",
       "    </tr>\n",
       "    <tr>\n",
       "      <th>1</th>\n",
       "      <td>5328</td>\n",
       "      <td>4600</td>\n",
       "    </tr>\n",
       "    <tr>\n",
       "      <th>2</th>\n",
       "      <td>4600</td>\n",
       "      <td>3021</td>\n",
       "    </tr>\n",
       "    <tr>\n",
       "      <th>3</th>\n",
       "      <td>3021</td>\n",
       "      <td>5615</td>\n",
       "    </tr>\n",
       "    <tr>\n",
       "      <th>4</th>\n",
       "      <td>5615</td>\n",
       "      <td>6394</td>\n",
       "    </tr>\n",
       "    <tr>\n",
       "      <th>...</th>\n",
       "      <td>...</td>\n",
       "      <td>...</td>\n",
       "    </tr>\n",
       "    <tr>\n",
       "      <th>268</th>\n",
       "      <td>15951</td>\n",
       "      <td>11699</td>\n",
       "    </tr>\n",
       "    <tr>\n",
       "      <th>269</th>\n",
       "      <td>11699</td>\n",
       "      <td>11196</td>\n",
       "    </tr>\n",
       "    <tr>\n",
       "      <th>270</th>\n",
       "      <td>11196</td>\n",
       "      <td>12161</td>\n",
       "    </tr>\n",
       "    <tr>\n",
       "      <th>271</th>\n",
       "      <td>12161</td>\n",
       "      <td>15914</td>\n",
       "    </tr>\n",
       "    <tr>\n",
       "      <th>272</th>\n",
       "      <td>15914</td>\n",
       "      <td>NaN</td>\n",
       "    </tr>\n",
       "  </tbody>\n",
       "</table>\n",
       "<p>273 rows × 2 columns</p>\n",
       "</div>"
      ],
      "text/plain": [
       "    active_cases Target_cases\n",
       "0           4991         5328\n",
       "1           5328         4600\n",
       "2           4600         3021\n",
       "3           3021         5615\n",
       "4           5615         6394\n",
       "..           ...          ...\n",
       "268        15951        11699\n",
       "269        11699        11196\n",
       "270        11196        12161\n",
       "271        12161        15914\n",
       "272        15914          NaN\n",
       "\n",
       "[273 rows x 2 columns]"
      ]
     },
     "execution_count": 42,
     "metadata": {},
     "output_type": "execute_result"
    }
   ],
   "source": [
    "Df"
   ]
  },
  {
   "cell_type": "code",
   "execution_count": 43,
   "metadata": {},
   "outputs": [],
   "source": [
    "Df.dropna(inplace=True)"
   ]
  },
  {
   "cell_type": "code",
   "execution_count": 44,
   "metadata": {
    "scrolled": true
   },
   "outputs": [
    {
     "data": {
      "text/html": [
       "<div>\n",
       "<style scoped>\n",
       "    .dataframe tbody tr th:only-of-type {\n",
       "        vertical-align: middle;\n",
       "    }\n",
       "\n",
       "    .dataframe tbody tr th {\n",
       "        vertical-align: top;\n",
       "    }\n",
       "\n",
       "    .dataframe thead th {\n",
       "        text-align: right;\n",
       "    }\n",
       "</style>\n",
       "<table border=\"1\" class=\"dataframe\">\n",
       "  <thead>\n",
       "    <tr style=\"text-align: right;\">\n",
       "      <th></th>\n",
       "      <th>active_cases</th>\n",
       "      <th>Target_cases</th>\n",
       "    </tr>\n",
       "  </thead>\n",
       "  <tbody>\n",
       "    <tr>\n",
       "      <th>0</th>\n",
       "      <td>4991</td>\n",
       "      <td>5328</td>\n",
       "    </tr>\n",
       "    <tr>\n",
       "      <th>1</th>\n",
       "      <td>5328</td>\n",
       "      <td>4600</td>\n",
       "    </tr>\n",
       "    <tr>\n",
       "      <th>2</th>\n",
       "      <td>4600</td>\n",
       "      <td>3021</td>\n",
       "    </tr>\n",
       "    <tr>\n",
       "      <th>3</th>\n",
       "      <td>3021</td>\n",
       "      <td>5615</td>\n",
       "    </tr>\n",
       "    <tr>\n",
       "      <th>4</th>\n",
       "      <td>5615</td>\n",
       "      <td>6394</td>\n",
       "    </tr>\n",
       "    <tr>\n",
       "      <th>...</th>\n",
       "      <td>...</td>\n",
       "      <td>...</td>\n",
       "    </tr>\n",
       "    <tr>\n",
       "      <th>267</th>\n",
       "      <td>16671</td>\n",
       "      <td>15951</td>\n",
       "    </tr>\n",
       "    <tr>\n",
       "      <th>268</th>\n",
       "      <td>15951</td>\n",
       "      <td>11699</td>\n",
       "    </tr>\n",
       "    <tr>\n",
       "      <th>269</th>\n",
       "      <td>11699</td>\n",
       "      <td>11196</td>\n",
       "    </tr>\n",
       "    <tr>\n",
       "      <th>270</th>\n",
       "      <td>11196</td>\n",
       "      <td>12161</td>\n",
       "    </tr>\n",
       "    <tr>\n",
       "      <th>271</th>\n",
       "      <td>12161</td>\n",
       "      <td>15914</td>\n",
       "    </tr>\n",
       "  </tbody>\n",
       "</table>\n",
       "<p>272 rows × 2 columns</p>\n",
       "</div>"
      ],
      "text/plain": [
       "    active_cases Target_cases\n",
       "0           4991         5328\n",
       "1           5328         4600\n",
       "2           4600         3021\n",
       "3           3021         5615\n",
       "4           5615         6394\n",
       "..           ...          ...\n",
       "267        16671        15951\n",
       "268        15951        11699\n",
       "269        11699        11196\n",
       "270        11196        12161\n",
       "271        12161        15914\n",
       "\n",
       "[272 rows x 2 columns]"
      ]
     },
     "execution_count": 44,
     "metadata": {},
     "output_type": "execute_result"
    }
   ],
   "source": [
    "Df"
   ]
  },
  {
   "cell_type": "code",
   "execution_count": 45,
   "metadata": {},
   "outputs": [],
   "source": [
    "def train_test_split(dat_frame,per):\n",
    "    dat_frame=dat_frame.values\n",
    "    l=int(len(dat_frame)*(1-per))\n",
    "    return dat_frame[:l],dat_frame[l:]"
   ]
  },
  {
   "cell_type": "code",
   "execution_count": 46,
   "metadata": {},
   "outputs": [],
   "source": [
    "train,test=train_test_split(Df,0.2)"
   ]
  },
  {
   "cell_type": "code",
   "execution_count": 47,
   "metadata": {},
   "outputs": [
    {
     "name": "stdout",
     "output_type": "stream",
     "text": [
      "273\n",
      "217\n",
      "55\n"
     ]
    }
   ],
   "source": [
    "print(len(D_frame))\n",
    "print(len(train))\n",
    "print(len(test))\n"
   ]
  },
  {
   "cell_type": "code",
   "execution_count": 61,
   "metadata": {},
   "outputs": [
    {
     "data": {
      "text/plain": [
       "array([[19948, 20367],\n",
       "       [20367, 18607],\n",
       "       [18607, 13049],\n",
       "       [13049, 21119],\n",
       "       [21119, 23500],\n",
       "       [23500, 21445],\n",
       "       [21445, 20452],\n",
       "       [20452, 19451],\n",
       "       [19451, 18582],\n",
       "       [18582, 12294],\n",
       "       [12294, 21613],\n",
       "       [21613, 21427],\n",
       "       [21427, 21116],\n",
       "       [21116, 20224],\n",
       "       [20224, 17106],\n",
       "       [17106, 10402],\n",
       "       [10402, 13383],\n",
       "       [13383, 24296],\n",
       "       [24296, 31445],\n",
       "       [31445, 30077],\n",
       "       [30077, 32801],\n",
       "       [32801, 31265],\n",
       "       [31265, 29836],\n",
       "       [29836, 19622],\n",
       "       [19622, 30203],\n",
       "       [30203, 32803],\n",
       "       [32803, 32097],\n",
       "       [32097, 29322],\n",
       "       [29322, 29682],\n",
       "       [29682, 26701],\n",
       "       [26701, 19688],\n",
       "       [19688, 25772],\n",
       "       [25772, 30196],\n",
       "       [30196, 26200],\n",
       "       [26200, 25010],\n",
       "       [25010, 20487],\n",
       "       [20487, 20240],\n",
       "       [20240, 15058],\n",
       "       [15058, 15876],\n",
       "       [15876, 17681],\n",
       "       [17681, 22182],\n",
       "       [22182, 23260],\n",
       "       [23260, 19325],\n",
       "       [19325, 19653],\n",
       "       [19653, 15692],\n",
       "       [15692, 15768],\n",
       "       [15768, 19675],\n",
       "       [19675, 19682],\n",
       "       [19682, 17983],\n",
       "       [17983, 16671],\n",
       "       [16671, 15951],\n",
       "       [15951, 11699],\n",
       "       [11699, 11196],\n",
       "       [11196, 12161],\n",
       "       [12161, 15914]], dtype=object)"
      ]
     },
     "execution_count": 61,
     "metadata": {},
     "output_type": "execute_result"
    }
   ],
   "source": [
    "test"
   ]
  },
  {
   "cell_type": "code",
   "execution_count": 53,
   "metadata": {},
   "outputs": [],
   "source": [
    "X1=train[:,:-1]\n",
    "y1=train[:,-1]"
   ]
  },
  {
   "cell_type": "code",
   "execution_count": 54,
   "metadata": {},
   "outputs": [
    {
     "data": {
      "text/plain": [
       "array([5328, 4600, 3021, 5615, 6394, 5051, 5142, 5528, 4545, 3110, 5507,\n",
       "       6004, 5490, 5624, 5960, 5005, 3346, 6186, 6815, 6334, 6753, 6960,\n",
       "       6036, 3361, 6293, 5659, 5771, 6268, 6282, 5266, 3459, 5716, 6356,\n",
       "       6102, 5610, 5942, 6075, 3742, 5214, 5980, 5281, 5397, 5471, 4612,\n",
       "       2884, 4937, 4892, 4584, 4505, 4650, 4070, 2212, 4034, 4106, 3677,\n",
       "       3671, 3792, 3254, 1938, 2938, 2765, 2616, 2776, 2791, 2100, 1412,\n",
       "       2316, 2475, 2133, 1780, 2035, 1792, 1054, 1970, 2098, 1899, 1984,\n",
       "       2078, 1875, 1239, 1985, 2456, 1989, 1825, 2055, 2216, 1549, 2389,\n",
       "       2653, 2798, 2508, 2541, 2802, 2357, 3502, 3502, 4353, 5063, 6194,\n",
       "       6986, 5692, 7515, 8778, 8126, 10031, 13835, 18257, 13644, 19577,\n",
       "       22414, 26995, 28447, 26685, 28469, 21890, 32819, 35013, 38607,\n",
       "       37199, 35636, 31959, 26011, 37190, 41953, 42464, 38460, 41971,\n",
       "       35801, 27487, 37290, 43529, 39955, 34694, 32680, 29704, 21402,\n",
       "       31337, 32762, 30491, 29673, 28514, 25820, 17821, 29803, 28798,\n",
       "       24166, 22318, 23513, 19894, 12300, 19760, 19661, 18853, 16229,\n",
       "       17328, 14672, 9313, 15567, 16204, 14424, 14233, 13832, 11584, 7719,\n",
       "       12246, 13270, 12469, 11361, 12443, 11647, 7449, 12617, 12787,\n",
       "       12078, 11546, 12118, 10905, 8063, 13550, 13658, 12868, 12095,\n",
       "       12456, 12100, 8037, 14372, 15600, 13772, 13563, 14087, 12220, 7798,\n",
       "       14539, 15637, 13773, 13750, 16148, 13956, 9931, 16848, 17481,\n",
       "       12818, 17518, 18531, 17466, 11586, 22129, 22056, 22064, 20772,\n",
       "       20624, 20728, 13984, 23676, 22414, 22040, 19948], dtype=object)"
      ]
     },
     "execution_count": 54,
     "metadata": {},
     "output_type": "execute_result"
    }
   ],
   "source": [
    "y1"
   ]
  },
  {
   "cell_type": "code",
   "execution_count": 56,
   "metadata": {},
   "outputs": [
    {
     "data": {
      "text/plain": [
       "XGBRegressor(base_score=0.5, booster='gbtree', colsample_bylevel=1,\n",
       "             colsample_bynode=1, colsample_bytree=1, gamma=0, gpu_id=-1,\n",
       "             importance_type='gain', interaction_constraints='',\n",
       "             learning_rate=0.300000012, max_delta_step=0, max_depth=6,\n",
       "             min_child_weight=1, missing=nan, monotone_constraints='()',\n",
       "             n_estimators=700, n_jobs=4, num_parallel_tree=1,\n",
       "             objective='reg:squarederror', random_state=0, reg_alpha=0,\n",
       "             reg_lambda=1, scale_pos_weight=1, subsample=1, tree_method='exact',\n",
       "             validate_parameters=1, verbosity=None)"
      ]
     },
     "execution_count": 56,
     "metadata": {},
     "output_type": "execute_result"
    }
   ],
   "source": [
    "reg=XGBRegressor(objective=\"reg:squarederror\",n_estimators=700)\n",
    "reg.fit(X1,y1)"
   ]
  },
  {
   "cell_type": "code",
   "execution_count": 57,
   "metadata": {},
   "outputs": [],
   "source": [
    "predictions=reg.predict(test[:,:-1])"
   ]
  },
  {
   "cell_type": "markdown",
   "metadata": {},
   "source": [
    "#deaths_prediction_model"
   ]
  },
  {
   "cell_type": "code",
   "execution_count": 68,
   "metadata": {},
   "outputs": [],
   "source": [
    "Df[\"daily_deaths\"]=D_frame[[\"daily_deaths\"]].copy()"
   ]
  },
  {
   "cell_type": "code",
   "execution_count": 70,
   "metadata": {},
   "outputs": [],
   "source": [
    "Df.drop(labels=[\"active_cases\",\"Target_cases\"],axis=1,inplace=True)"
   ]
  },
  {
   "cell_type": "code",
   "execution_count": 72,
   "metadata": {},
   "outputs": [],
   "source": [
    "Df[\"Target_deaths\"]=Df.daily_deaths.shift(-1)"
   ]
  },
  {
   "cell_type": "code",
   "execution_count": 74,
   "metadata": {},
   "outputs": [],
   "source": [
    "Df.dropna(inplace=True)"
   ]
  },
  {
   "cell_type": "code",
   "execution_count": 76,
   "metadata": {},
   "outputs": [],
   "source": [
    "train2,test2=train_test_split(Df,0.2)"
   ]
  },
  {
   "cell_type": "code",
   "execution_count": 77,
   "metadata": {},
   "outputs": [],
   "source": [
    "X2=train2[:,:-1]\n",
    "y2=train2[:,-1]\n"
   ]
  },
  {
   "cell_type": "code",
   "execution_count": 78,
   "metadata": {},
   "outputs": [
    {
     "data": {
      "text/plain": [
       "XGBRegressor(base_score=0.5, booster='gbtree', colsample_bylevel=1,\n",
       "             colsample_bynode=1, colsample_bytree=1, gamma=0, gpu_id=-1,\n",
       "             importance_type='gain', interaction_constraints='',\n",
       "             learning_rate=0.300000012, max_delta_step=0, max_depth=6,\n",
       "             min_child_weight=1, missing=nan, monotone_constraints='()',\n",
       "             n_estimators=700, n_jobs=4, num_parallel_tree=1,\n",
       "             objective='reg:squarederror', random_state=0, reg_alpha=0,\n",
       "             reg_lambda=1, scale_pos_weight=1, subsample=1, tree_method='exact',\n",
       "             validate_parameters=1, verbosity=None)"
      ]
     },
     "execution_count": 78,
     "metadata": {},
     "output_type": "execute_result"
    }
   ],
   "source": [
    "reg2=XGBRegressor(objective=\"reg:squarederror\",n_estimators=700)\n",
    "reg2.fit(X2,y2)"
   ]
  },
  {
   "cell_type": "code",
   "execution_count": 79,
   "metadata": {},
   "outputs": [],
   "source": [
    "predictions2=reg2.predict(test2[:,:-1])"
   ]
  }
 ],
 "metadata": {
  "kernelspec": {
   "display_name": "Python 3",
   "language": "python",
   "name": "python3"
  },
  "language_info": {
   "codemirror_mode": {
    "name": "ipython",
    "version": 3
   },
   "file_extension": ".py",
   "mimetype": "text/x-python",
   "name": "python",
   "nbconvert_exporter": "python",
   "pygments_lexer": "ipython3",
   "version": "3.7.6"
  }
 },
 "nbformat": 4,
 "nbformat_minor": 4
}
